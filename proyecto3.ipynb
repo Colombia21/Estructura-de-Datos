{
  "nbformat": 4,
  "nbformat_minor": 0,
  "metadata": {
    "colab": {
      "provenance": [],
      "authorship_tag": "ABX9TyOUtJ1J9tSW7cTMD+rRippf",
      "include_colab_link": true
    },
    "kernelspec": {
      "name": "python3",
      "display_name": "Python 3"
    },
    "language_info": {
      "name": "python"
    }
  },
  "cells": [
    {
      "cell_type": "markdown",
      "metadata": {
        "id": "view-in-github",
        "colab_type": "text"
      },
      "source": [
        "<a href=\"https://colab.research.google.com/github/Colombia21/Estructura-de-Datos/blob/main/proyecto3.ipynb\" target=\"_parent\"><img src=\"https://colab.research.google.com/assets/colab-badge.svg\" alt=\"Open In Colab\"/></a>"
      ]
    },
    {
      "cell_type": "code",
      "execution_count": 29,
      "metadata": {
        "colab": {
          "base_uri": "https://localhost:8080/"
        },
        "id": "hAQim46LFH2t",
        "outputId": "89305124-499c-40f3-eb8e-a88b4d7a5794"
      },
      "outputs": [
        {
          "output_type": "stream",
          "name": "stdout",
          "text": [
            "<class 'tuple'>\n",
            "<class 'list'>\n"
          ]
        }
      ],
      "source": [
        "#1\n",
        "numeros = [100,30,20]\n",
        "num = tuple(numeros)\n",
        "print(type(num))\n",
        "num2 = list(num)\n",
        "print(type(num2))\n",
        "\n",
        "\n"
      ]
    },
    {
      "cell_type": "code",
      "source": [
        "#2\n",
        "camisas = (\"Camisa con cuello Inglés\",\"Camisa con cuello Italiano\",\"Camisa con cuello Francés\",\"Camisa con cuello Cutaway\",\"Camisa con cuello Americano o Button Down\")\n",
        "precios = {\n",
        "    \"Camisa con cuello Inglés\": 100,\n",
        "    \"Camisa con cuello Italiano\": 20,\n",
        "    \"Camisa con cuello Francés\": 150,\n",
        "    \"Camisa con cuello Cutaway\": 30,\n",
        "    \"Camisa con cuello Americano o Button Down\": 110\n",
        "}\n",
        "\n",
        "for i in range(len(camisas)):\n",
        "  if precios[camisas[i]] >= 100:\n",
        "    print(camisas[i])\n",
        "\n",
        "\n",
        ""
      ],
      "metadata": {
        "colab": {
          "base_uri": "https://localhost:8080/"
        },
        "id": "mGcn07qRLHGh",
        "outputId": "b7b2a427-2f9b-41d7-d2d7-283bf216939f"
      },
      "execution_count": 13,
      "outputs": [
        {
          "output_type": "stream",
          "name": "stdout",
          "text": [
            "Camisa con cuello Inglés\n",
            "Camisa con cuello Francés\n",
            "Camisa con cuello Americano o Button Down\n"
          ]
        }
      ]
    },
    {
      "cell_type": "code",
      "source": [
        "#3\n",
        "frutas = [\"manzana\", \"banana\", \"manzana\", \"pera\", \"banana\"]\n",
        "frutas_unicas = set(frutas)\n",
        "\n",
        "for i in frutas_unicas:\n",
        "    print(f\"hay {frutas.count(i)} {i}s\")\n"
      ],
      "metadata": {
        "colab": {
          "base_uri": "https://localhost:8080/"
        },
        "id": "h5Yd4k0QOFgc",
        "outputId": "1e3d31e6-8a0b-4eac-a3f2-1bfed6bdd98e"
      },
      "execution_count": 18,
      "outputs": [
        {
          "output_type": "stream",
          "name": "stdout",
          "text": [
            "hay 2 bananas\n",
            "hay 1 peras\n",
            "hay 2 manzanas\n"
          ]
        }
      ]
    },
    {
      "cell_type": "code",
      "source": [
        "#4\n",
        "matriz = []\n",
        "while True:\n",
        "  numeros1 = int(input(\"ingrese el numero: \"))\n",
        "  matriz.append(numeros1)\n",
        "  if numeros1 == 5:\n",
        "    break\n",
        "print(f\"el promedio es\" , {sum(matriz)/5})\n",
        "\n",
        "\n",
        "\n"
      ],
      "metadata": {
        "colab": {
          "base_uri": "https://localhost:8080/"
        },
        "id": "RDjnS_ODS0PP",
        "outputId": "4bf01331-4187-4fbf-828f-6ccb9f8d3c47"
      },
      "execution_count": 28,
      "outputs": [
        {
          "output_type": "stream",
          "name": "stdout",
          "text": [
            "ingrese el numero: 1\n",
            "ingrese el numero: 2\n",
            "ingrese el numero: 3\n",
            "ingrese el numero: 4\n",
            "ingrese el numero: 5\n",
            "el promedio es {3.0}\n"
          ]
        }
      ]
    },
    {
      "cell_type": "code",
      "source": [
        "#5\n",
        "productos = {\n",
        "      \"Jabones y detergentes\": 15000,\n",
        "      \"Productos lavavajillas y pulidores de cocina\": 3000,\n",
        "      \"Suavizantes y productos para prelavado y preplanchado de ropa\": 2000,\n",
        "      \"Ambientadores\": 12400,\n",
        "      \"Blanqueadores y quitamanchas\": 12000\n",
        "}\n",
        "\n",
        "suma = sum(productos.values())\n",
        "print(f\"la suma total de los productoes es : \", suma)\n"
      ],
      "metadata": {
        "colab": {
          "base_uri": "https://localhost:8080/"
        },
        "id": "J6pgaFgmWz50",
        "outputId": "26748b12-0cd4-4519-b7aa-bc81f2655784"
      },
      "execution_count": 34,
      "outputs": [
        {
          "output_type": "stream",
          "name": "stdout",
          "text": [
            "la suma total de los productoes es :  44400\n"
          ]
        }
      ]
    }
  ]
}