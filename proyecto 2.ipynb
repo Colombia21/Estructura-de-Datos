{
  "nbformat": 4,
  "nbformat_minor": 0,
  "metadata": {
    "colab": {
      "provenance": [],
      "name": "proyecto E.D.ipynb",
      "authorship_tag": "ABX9TyM0GsFU5z4rnycPaKcfUWkD",
      "include_colab_link": true
    },
    "kernelspec": {
      "name": "python3",
      "display_name": "Python 3"
    },
    "language_info": {
      "name": "python"
    }
  },
  "cells": [
    {
      "cell_type": "markdown",
      "metadata": {
        "id": "view-in-github",
        "colab_type": "text"
      },
      "source": [
        "<a href=\"https://colab.research.google.com/github/Colombia21/Estructura-de-Datos/blob/main/proyecto%202.ipynb\" target=\"_parent\"><img src=\"https://colab.research.google.com/assets/colab-badge.svg\" alt=\"Open In Colab\"/></a>"
      ]
    },
    {
      "cell_type": "code",
      "source": [
        "#1\n",
        "tuplea = (\"apple\", \"banana\", \"cherry\", \"date\", \"fig\", \"grape\")\n",
        "print(len(tuplea))"
      ],
      "metadata": {
        "id": "Siws18agJtSW",
        "outputId": "3b0483cf-3118-47f3-8d7c-a0b821e66c39",
        "colab": {
          "base_uri": "https://localhost:8080/"
        }
      },
      "execution_count": null,
      "outputs": [
        {
          "output_type": "stream",
          "name": "stdout",
          "text": [
            "6\n"
          ]
        }
      ]
    },
    {
      "cell_type": "code",
      "source": [
        "fruits = (\"apple\", \"banana\", \"cherry\", \"date\", \"fig\", \"grape\")\n",
        "print(fruits[2])"
      ],
      "metadata": {
        "id": "xBTl88NDMBOb",
        "outputId": "f8381f4a-8c74-450a-92df-bb8d01fdfc46",
        "colab": {
          "base_uri": "https://localhost:8080/"
        }
      },
      "execution_count": null,
      "outputs": [
        {
          "output_type": "stream",
          "name": "stdout",
          "text": [
            "cherry\n"
          ]
        }
      ]
    },
    {
      "cell_type": "code",
      "source": [
        "colors = (\"red\", \"green\", \"blue\")\n",
        "primero, segundo, tercero = colors[0], colors[1], colors[2]\n",
        "print(primero)\n",
        "print(segundo)\n",
        "print(tercero)\n"
      ],
      "metadata": {
        "id": "YIEIvJNfMqxr",
        "outputId": "f2eb1a17-b271-4720-bc54-0f8e1f96dfdb",
        "colab": {
          "base_uri": "https://localhost:8080/"
        }
      },
      "execution_count": null,
      "outputs": [
        {
          "output_type": "stream",
          "name": "stdout",
          "text": [
            "red\n",
            "green\n",
            "blue\n"
          ]
        }
      ]
    },
    {
      "cell_type": "code",
      "source": [
        "num1 = (1, 2, 3)\n",
        "num2 = (4, 5, 6)\n",
        "num3 = num1 + num2\n",
        "print(num3)"
      ],
      "metadata": {
        "id": "Rv7m9IGIN68p",
        "outputId": "ab44dcd9-0ae9-4cc1-9872-ede8036f7f59",
        "colab": {
          "base_uri": "https://localhost:8080/"
        }
      },
      "execution_count": null,
      "outputs": [
        {
          "output_type": "stream",
          "name": "stdout",
          "text": [
            "(1, 2, 3, 4, 5, 6)\n"
          ]
        }
      ]
    },
    {
      "cell_type": "code",
      "source": [
        "repeat = num1 * 4\n",
        "print(repeat)"
      ],
      "metadata": {
        "id": "Yc1v4sUUOWbP",
        "outputId": "fcf542b8-d90a-453e-bcf4-4cb3a2b0886c",
        "colab": {
          "base_uri": "https://localhost:8080/"
        }
      },
      "execution_count": null,
      "outputs": [
        {
          "output_type": "stream",
          "name": "stdout",
          "text": [
            "(1, 2, 3, 1, 2, 3, 1, 2, 3, 1, 2, 3)\n"
          ]
        }
      ]
    },
    {
      "cell_type": "code",
      "source": [
        "numbers1 = (10, 20, 30, 40, 50)\n",
        "for number in numbers1:\n",
        "     print(number)\n"
      ],
      "metadata": {
        "id": "KIH8-1SHO8VC",
        "outputId": "49209f5a-abd5-439f-e0e7-d87910486868",
        "colab": {
          "base_uri": "https://localhost:8080/"
        }
      },
      "execution_count": null,
      "outputs": [
        {
          "output_type": "stream",
          "name": "stdout",
          "text": [
            "10\n",
            "20\n",
            "30\n",
            "40\n",
            "50\n"
          ]
        }
      ]
    },
    {
      "cell_type": "code",
      "source": [
        "tuplea1 = (1, 2, 3)\n",
        "tuplea2 = (\"a\", \"b\", \"c\")\n",
        "tuplea3 = (tuplea1, tuplea2)\n",
        "print(tuplea3)"
      ],
      "metadata": {
        "id": "Q9irBwUvPZll",
        "outputId": "90b6f471-bbf6-4a36-9e59-9ac672569f87",
        "colab": {
          "base_uri": "https://localhost:8080/"
        }
      },
      "execution_count": null,
      "outputs": [
        {
          "output_type": "stream",
          "name": "stdout",
          "text": [
            "((1, 2, 3), ('a', 'b', 'c'))\n"
          ]
        }
      ]
    },
    {
      "cell_type": "code",
      "source": [
        "letters = (\"a\", \"b\", \"c\", \"d\")\n",
        "if \"e\" in letters:\n",
        "  print(\"e esta en la tupla, felicitaciones\")\n",
        "else:\n",
        "  print(\"e no esta en la lista, que triste!!\")"
      ],
      "metadata": {
        "id": "elHJKx2TP5ee",
        "outputId": "7bf67607-de59-4d02-a692-148f1d511d6e",
        "colab": {
          "base_uri": "https://localhost:8080/"
        }
      },
      "execution_count": 7,
      "outputs": [
        {
          "output_type": "stream",
          "name": "stdout",
          "text": [
            "e no esta en la lista, que triste!!\n"
          ]
        }
      ]
    },
    {
      "cell_type": "code",
      "source": [
        "numeritos = [100, 200, 300, 400]\n",
        "tupla_convertida1 = tuple(numeritos)\n",
        "print(tupla_convertida1)\n",
        "\n",
        "\n"
      ],
      "metadata": {
        "id": "ZUGM6GiDRQch",
        "outputId": "dc623b18-9cb7-4b77-e3f3-a52d60b48bd3",
        "colab": {
          "base_uri": "https://localhost:8080/"
        }
      },
      "execution_count": 6,
      "outputs": [
        {
          "output_type": "stream",
          "name": "stdout",
          "text": [
            "(100, 200, 300, 400)\n"
          ]
        }
      ]
    },
    {
      "cell_type": "code",
      "source": [
        "my_tuuple = (5, 10, 15, 20, 25, 30, 35)\n",
        "subtuple = my_tuuple[1:5]\n",
        "print(subtuple)\n",
        "print(my_tuuple[2])"
      ],
      "metadata": {
        "colab": {
          "base_uri": "https://localhost:8080/"
        },
        "id": "iOW_HkXEXtF0",
        "outputId": "c74a5871-0305-48a4-edb6-4a4c789cb6c0"
      },
      "execution_count": 8,
      "outputs": [
        {
          "output_type": "stream",
          "name": "stdout",
          "text": [
            "(10, 15, 20, 25)\n",
            "15\n"
          ]
        }
      ]
    },
    {
      "cell_type": "code",
      "execution_count": null,
      "metadata": {
        "id": "rL7CTKfkA7If",
        "colab": {
          "base_uri": "https://localhost:8080/"
        },
        "outputId": "afb67954-6297-4231-fff3-b8e0be3deffd"
      },
      "outputs": [
        {
          "output_type": "stream",
          "name": "stdout",
          "text": [
            "<bound method persona.creacion of <__main__.futbol object at 0x7a2e6621c130>>\n",
            "la persona messi de altura 1.69 ha sido creada, con exito\n",
            "\n",
            "\n",
            "⠀⣠⡤⠒⠂⢀⣈⣉⠉⠑⠒⠢⠤⡀⠀⠀⠀⠀⠀⠀⠀\n",
            "⠀⠀⡰⠉⢁⣰⣶⣾⣿⣿⣿⣿⣷⣶⣼⣶⣼⣆⠀⠀⠀⠀⠀⠀\n",
            "⠀⢠⣁⣴⣿⣿⣿⣿⣿⣿⣿⣿⣿⣿⣿⣿⣿⣿⣷⣄⡀⠀⠀⠀\n",
            "⠀⣿⣿⣿⣿⡿⠛⠉⠉⠁⠀⠈⠉⠉⠙⠻⣿⣿⣷⣿⡄⠀⠀\n",
            "⠀⣿⣿⡿⠁⠀⠀⠀⠀⠀⠀⠀⠀⠀⠀⠀⠀⠈⣿⣷⣿⢱⠀⠀\n",
            "⠀⣿⣿⠃⠀⠀⠀⠀⠀⠀⠀⠀⠀⠀⠀⠀⠀⠀⢻⣿⣟⠂⡇⠀\n",
            "⠀⣿⣿⠀⢀⣤⣶⣶⣦⠀⠀⢠⣴⣿⣷⣶⡄⠀⠘⢿⣿⣧⡇⠀\n",
            "⢸⣿⡏⠀⠠⡶⢽⡶⠿⠃⠀⠘⢿⠿⠶⠟⠿⠂⠀⢸⣿⣿⡿⡀\n",
            "⡜⢿⣿⠀⠀⠀⠀⠀⠀⠀⠀⠀⠀⠀⠀⠀⠀⠀⠀⠀⠀⠀⠟⠋⠀⡇\n",
            "⢱⠈⠙⠀⠀⠀⠀⣠⢠⣤⣤⣤⣤⣤⡤⡀⠀⠀⠀⠀⠀⣤⠀⢰\n",
            "⢸⠀⢢⡄⠀⠀⠴⣧⣴⡶⢿⢿⣿⣿⣿⣾⣦⠀⡀⢠⣆⠙⠸\n",
            "⢠⠀⠈⣷⣀⡀⠨⣿⢿⢋⣉⣉⣉⣙⡿⣿⡿⣠⣟⣾⡿⡠⠂\n",
            "⠘⠦⠤⣿⣿⣷⣼⣿⠀⠉⠉⠉⠉⠉⠀⢸⣿⣿⣿⣿⣿⠁⠀⠀\n",
            "⠀⠀⠀⢸⢻⣿⣿⣿⣶⡀⠾⣦⣷⠔⢧⣾⣿⣿⣿⣿⢸⠀⠀⠀\n",
            "⠀⠀⢀⣾⠀⠉⣿⣿⣿⣧⣦⣻⣳⣶⣿⣿⣿⣾⣿⡿⢸⠀⠀⠀\n",
            "⠀⢀⣿⣿⡀⠈⢿⣿⣿⣿⣿⣿⣿⣿⣿⣿⣿⣿⡿⠁⢸⣧⠀⠀\n",
            "⠀⢸⣿⣿⣇⠀⠈⠿⢿⣿⣿⣿⣿⣿⣿⣿⠿⠛⠀⠀⣿⣿⡆⠀\n",
            "⠀⠈⢿⣿⣿⡄⠀⠀⠀⠉⠛⠛⠛⠛⠉⠁⠀⠀⠀⠀⣿⣿⣇⠀\n",
            "⠀⠀⢸⣿⣿⣿⣆⠀⠀⠀⠀⠀⠀⠀⠀⠀⠀⠀⠀⣸⣿⣿⣿⠀\n",
            "⠀⠀⠀⣿⣿⣿⣿⣦⠀⠀⠀⠀⠀⠀⠀⠀⠀⠀⣰⣿⣿⣿⡇⠀\n",
            "⠀⠀⠀⠘⢿⣿⣿⣿⣧⡀⠀⠀⠀⠀⠀⠀⠀⠀⣿⣿⣿⠟⠁⠀\n",
            "⠀⠀⠀⠀⠀⠙⠿⢿⣿⣿⣶⣄⡀⠀⠀⠀⠀⣰⣿⣿⠋⠀⠀⠀\n",
            "⠀⠀⠀⠀⠀⠀⠀⠀⠀⠙⢿⣿⣿⣦⠀⠀⠀⣿⣿⠃⠀⠀⠀⠀\n",
            "⠀⠀⠀⠀⠀⠀⠀⠀⠀⠀⠀⠙⣿⣿⣷⣤⣺⣿⡇⠀⠀⠀⠀⠀\n",
            "⠀⠀⠀⠀⠀⠀⠀⠀⠀⠀⠀⠀⠈⠛⠿⣿⠿⠋⠀\n",
            "             LIONEL MESSI ⠀\n",
            "         TIR     DEF    FIS\n",
            "         87      33     64\n",
            "⠀⠀\n",
            "⠀⠀\n",
            "      \n",
            "El jugador messi con un promedio en tiros de 87 marca gol.\n",
            "El jugador messi con un promedio en defensa de 33 fallo y se metio autogol.\n",
            "El jugador messi con un fisico de 64 esta lesionado.\n"
          ]
        }
      ],
      "source": [
        "# Crear un arreglo vacío\n",
        "\n",
        "class persona:\n",
        "\n",
        "    def __init__ (self, nombre, altura):\n",
        "        self.nombre = nombre\n",
        "        self.altura = altura\n",
        "\n",
        "    def creacion(self):\n",
        "        return f\"la persona {self.nombre} de altura {self.altura} ha sido creada, con exito\"\n",
        "\n",
        "\n",
        "\n",
        "\n",
        "\n",
        "\n",
        "\n",
        "    #subclase\n",
        "\n",
        "class futbol(persona):\n",
        "\n",
        "    def __init__(self, nombre, altura, tiros, defensa, fisico):\n",
        "\n",
        "        super().__init__(nombre, altura)\n",
        "\n",
        "        self.tiros = tiros\n",
        "        self.defensa = defensa\n",
        "        self.fisico = fisico\n",
        "\n",
        "    def anotacion(self):\n",
        "\n",
        "        return f\"El jugador {self.nombre} con un promedio en tiros de {self.tiros} marca gol.\"\n",
        "\n",
        "\n",
        "\n",
        "    def lesion(self):\n",
        "\n",
        "        return f\"El jugador {self.nombre} con un fisico de { self.fisico} esta lesionado.\"\n",
        "\n",
        "    def proteccion(self):\n",
        "\n",
        "        return f\"El jugador {self.nombre} con un promedio en defensa de {self.defensa} fallo y se metio autogol.\"\n",
        "\n",
        "\n",
        "\n",
        "\n",
        "\n",
        "def probar_jugador(persona):\n",
        "\n",
        "     print(FUTBOL1.creacion)\n",
        "\n",
        "\n",
        "\n",
        "\n",
        "\n",
        "\n",
        "\n",
        "FUTBOL1 = futbol(\"messi\", 1.69, 87, 33, 64)\n",
        "\n",
        "\n",
        "\n",
        "\n",
        "probar_jugador(futbol)\n",
        "\n",
        "print(FUTBOL1.creacion())\n",
        "print(\"\"\"\n",
        "\n",
        "⠀⣠⡤⠒⠂⢀⣈⣉⠉⠑⠒⠢⠤⡀⠀⠀⠀⠀⠀⠀⠀\n",
        "⠀⠀⡰⠉⢁⣰⣶⣾⣿⣿⣿⣿⣷⣶⣼⣶⣼⣆⠀⠀⠀⠀⠀⠀\n",
        "⠀⢠⣁⣴⣿⣿⣿⣿⣿⣿⣿⣿⣿⣿⣿⣿⣿⣿⣷⣄⡀⠀⠀⠀\n",
        "⠀⣿⣿⣿⣿⡿⠛⠉⠉⠁⠀⠈⠉⠉⠙⠻⣿⣿⣷⣿⡄⠀⠀\n",
        "⠀⣿⣿⡿⠁⠀⠀⠀⠀⠀⠀⠀⠀⠀⠀⠀⠀⠈⣿⣷⣿⢱⠀⠀\n",
        "⠀⣿⣿⠃⠀⠀⠀⠀⠀⠀⠀⠀⠀⠀⠀⠀⠀⠀⢻⣿⣟⠂⡇⠀\n",
        "⠀⣿⣿⠀⢀⣤⣶⣶⣦⠀⠀⢠⣴⣿⣷⣶⡄⠀⠘⢿⣿⣧⡇⠀\n",
        "⢸⣿⡏⠀⠠⡶⢽⡶⠿⠃⠀⠘⢿⠿⠶⠟⠿⠂⠀⢸⣿⣿⡿⡀\n",
        "⡜⢿⣿⠀⠀⠀⠀⠀⠀⠀⠀⠀⠀⠀⠀⠀⠀⠀⠀⠀⠀⠀⠟⠋⠀⡇\n",
        "⢱⠈⠙⠀⠀⠀⠀⣠⢠⣤⣤⣤⣤⣤⡤⡀⠀⠀⠀⠀⠀⣤⠀⢰\n",
        "⢸⠀⢢⡄⠀⠀⠴⣧⣴⡶⢿⢿⣿⣿⣿⣾⣦⠀⡀⢠⣆⠙⠸\n",
        "⢠⠀⠈⣷⣀⡀⠨⣿⢿⢋⣉⣉⣉⣙⡿⣿⡿⣠⣟⣾⡿⡠⠂\n",
        "⠘⠦⠤⣿⣿⣷⣼⣿⠀⠉⠉⠉⠉⠉⠀⢸⣿⣿⣿⣿⣿⠁⠀⠀\n",
        "⠀⠀⠀⢸⢻⣿⣿⣿⣶⡀⠾⣦⣷⠔⢧⣾⣿⣿⣿⣿⢸⠀⠀⠀\n",
        "⠀⠀⢀⣾⠀⠉⣿⣿⣿⣧⣦⣻⣳⣶⣿⣿⣿⣾⣿⡿⢸⠀⠀⠀\n",
        "⠀⢀⣿⣿⡀⠈⢿⣿⣿⣿⣿⣿⣿⣿⣿⣿⣿⣿⡿⠁⢸⣧⠀⠀\n",
        "⠀⢸⣿⣿⣇⠀⠈⠿⢿⣿⣿⣿⣿⣿⣿⣿⠿⠛⠀⠀⣿⣿⡆⠀\n",
        "⠀⠈⢿⣿⣿⡄⠀⠀⠀⠉⠛⠛⠛⠛⠉⠁⠀⠀⠀⠀⣿⣿⣇⠀\n",
        "⠀⠀⢸⣿⣿⣿⣆⠀⠀⠀⠀⠀⠀⠀⠀⠀⠀⠀⠀⣸⣿⣿⣿⠀\n",
        "⠀⠀⠀⣿⣿⣿⣿⣦⠀⠀⠀⠀⠀⠀⠀⠀⠀⠀⣰⣿⣿⣿⡇⠀\n",
        "⠀⠀⠀⠘⢿⣿⣿⣿⣧⡀⠀⠀⠀⠀⠀⠀⠀⠀⣿⣿⣿⠟⠁⠀\n",
        "⠀⠀⠀⠀⠀⠙⠿⢿⣿⣿⣶⣄⡀⠀⠀⠀⠀⣰⣿⣿⠋⠀⠀⠀\n",
        "⠀⠀⠀⠀⠀⠀⠀⠀⠀⠙⢿⣿⣿⣦⠀⠀⠀⣿⣿⠃⠀⠀⠀⠀\n",
        "⠀⠀⠀⠀⠀⠀⠀⠀⠀⠀⠀⠙⣿⣿⣷⣤⣺⣿⡇⠀⠀⠀⠀⠀\n",
        "⠀⠀⠀⠀⠀⠀⠀⠀⠀⠀⠀⠀⠈⠛⠿⣿⠿⠋⠀\n",
        "             LIONEL MESSI ⠀\n",
        "         TIR     DEF    FIS\n",
        "         87      33     64\n",
        "⠀⠀\n",
        "⠀⠀\n",
        "      \"\"\")\n",
        "\n",
        "\n",
        "\n",
        "\n",
        "print(FUTBOL1.anotacion())\n",
        "print(FUTBOL1.proteccion())\n",
        "print(FUTBOL1.lesion())\n",
        "\n",
        "\n",
        "\n"
      ]
    }
  ]
}